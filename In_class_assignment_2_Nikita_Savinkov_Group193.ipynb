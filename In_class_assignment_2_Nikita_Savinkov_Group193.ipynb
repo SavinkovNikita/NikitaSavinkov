{
 "cells": [
  {
   "cell_type": "markdown",
   "metadata": {},
   "source": [
    "# <center> In-class assignment 2 </center>"
   ]
  },
  {
   "cell_type": "markdown",
   "metadata": {},
   "source": [
    "**Task 1**. You need to analize the student;s performance in Exams. \n",
    "You can read the description here:\n",
    "https://www.kaggle.com/spscientist/students-performance-in-exams\n",
    "\n",
    "1.1 Read the data from your repository (```StudentsPerformance.csv```) using pandas library and save it as a DataFrame. <br>\n",
    "1.2 Check the descriptive statistics. What subject has the greatest mean score (math, reading, or writing)?<br>\n",
    "1.3 Check are there any missing values in a data set? In case if they persist, delete the rows with missing values.<br>\n",
    "1.4 Filter the data to display only the students with bachelor's degree and math scores above the median.<br>\n",
    "1.5. What are the ratios of females and males in this data set?<br>\n",
    "1.6 Check if all the races/ethnicities are presented in this data set uniformly. Hint: you need to calculate the number of students for each race/ethnicity and check is there any imbalance.<br>"
   ]
  },
  {
   "cell_type": "code",
   "execution_count": 3,
   "metadata": {},
   "outputs": [
    {
     "name": "stdout",
     "output_type": "stream",
     "text": [
      "<bound method NDFrame.describe of      gender race/ethnicity parental level of education         lunch  \\\n",
      "0    female        group B           bachelor's degree      standard   \n",
      "1    female        group C                some college      standard   \n",
      "2    female        group B             master's degree      standard   \n",
      "3      male        group A          associate's degree  free/reduced   \n",
      "4      male        group C                some college      standard   \n",
      "..      ...            ...                         ...           ...   \n",
      "995  female        group E             master's degree      standard   \n",
      "996    male        group C                 high school  free/reduced   \n",
      "997  female        group C                 high school  free/reduced   \n",
      "998  female        group D                some college      standard   \n",
      "999  female        group D                some college  free/reduced   \n",
      "\n",
      "    test preparation course  math score  reading score  writing score  \n",
      "0                      none          72             72             74  \n",
      "1                 completed          69             90             88  \n",
      "2                      none          90             95             93  \n",
      "3                      none          47             57             44  \n",
      "4                      none          76             78             75  \n",
      "..                      ...         ...            ...            ...  \n",
      "995               completed          88             99             95  \n",
      "996                    none          62             55             55  \n",
      "997               completed          59             71             65  \n",
      "998               completed          68             78             77  \n",
      "999                    none          77             86             86  \n",
      "\n",
      "[1000 rows x 8 columns]>\n",
      "66.089 69.169 68.054\n",
      "gender                         0\n",
      "race/ethnicity                 0\n",
      "parental level of education    0\n",
      "lunch                          0\n",
      "test preparation course        0\n",
      "math score                     0\n",
      "reading score                  0\n",
      "writing score                  0\n",
      "dtype: int64\n",
      "     gender race/ethnicity parental level of education         lunch  \\\n",
      "0    female        group B           bachelor's degree      standard   \n",
      "24     male        group D           bachelor's degree  free/reduced   \n",
      "27   female        group C           bachelor's degree      standard   \n",
      "60     male        group E           bachelor's degree  free/reduced   \n",
      "77     male        group A           bachelor's degree      standard   \n",
      "..      ...            ...                         ...           ...   \n",
      "909    male        group E           bachelor's degree      standard   \n",
      "916    male        group E           bachelor's degree      standard   \n",
      "933    male        group C           bachelor's degree  free/reduced   \n",
      "969  female        group B           bachelor's degree      standard   \n",
      "970  female        group D           bachelor's degree      standard   \n",
      "\n",
      "    test preparation course  math score  reading score  writing score  \n",
      "0                      none          72             72             74  \n",
      "24                completed          74             71             80  \n",
      "27                     none          67             69             75  \n",
      "60                completed          79             74             72  \n",
      "77                completed          80             78             81  \n",
      "..                      ...         ...            ...            ...  \n",
      "909               completed          70             64             70  \n",
      "916               completed         100            100            100  \n",
      "933               completed          70             75             74  \n",
      "969                    none          75             84             80  \n",
      "970                    none          89            100            100  \n",
      "\n",
      "[66 rows x 8 columns]\n",
      "Male 48.2 % Female 51.8 %\n",
      "Group A 8.9 % Group B 19.0 % Group C 31.9 % Group D 26.2 % Group E 14.0 %\n"
     ]
    }
   ],
   "source": [
    "# Your code here\n",
    "import pandas as pd\n",
    "df = pd.read_csv('StudentsPerformance.csv')\n",
    "\n",
    "print(df.describe)\n",
    "\n",
    "print(df['math score'].mean(), df['reading score'].mean(), df['writing score'].mean())\n",
    "\n",
    "print(df.isnull().sum())\n",
    "\n",
    "print(df.loc[(df['parental level of education'] == 'bachelor\\'s degree') & (df['math score'] > df['math score'].median())] )\n",
    "\n",
    "print(\"Male\", round(df['gender'].value_counts()['male']/ 1000 * 100,4), \"%\", \"Female\", round(df['gender'].value_counts()['female']/ 1000 * 100,4), \"%\")\n",
    "print(\"Group A\", round(df['race/ethnicity'].value_counts()['group A'] / 1000 * 100,4), \"%\",\"Group B\", round(df['race/ethnicity'].value_counts()['group B'] / 1000 * 100,4), \"%\",\"Group C\", round(df['race/ethnicity'].value_counts()['group C'] / 1000 * 100,4), \"%\",\"Group D\", round(df['race/ethnicity'].value_counts()['group D'] / 1000 * 100,4), \"%\",\"Group E\", round(df['race/ethnicity'].value_counts()['group E'] / 1000 * 100, 4), \"%\")\n",
    "\n"
   ]
  },
  {
   "cell_type": "markdown",
   "metadata": {},
   "source": [
    "**Task 2**. You should visit http://books.toscrape.com/catalogue/page-1.html. <br>\n",
    "2.1. Write a function that parses and scraps one page and returns a list of dictionaries with the title and price of each book. <br>\n",
    "2.2. Download the first 100 books with a progress bar from tqdm. <br>\n",
    "2.3 Save it to DataFrame. <br>\n",
    "2.4. Calculate the average price of these books. <br>"
   ]
  },
  {
   "cell_type": "code",
   "execution_count": 4,
   "metadata": {},
   "outputs": [
    {
     "data": {
      "application/vnd.jupyter.widget-view+json": {
       "model_id": "72330b6887b6474da31758486772c339",
       "version_major": 2,
       "version_minor": 0
      },
      "text/plain": [
       "HBox(children=(HTML(value='Download'), FloatProgress(value=0.0, max=20.0), HTML(value='')))"
      ]
     },
     "metadata": {},
     "output_type": "display_data"
    },
    {
     "name": "stdout",
     "output_type": "stream",
     "text": [
      "\n"
     ]
    },
    {
     "data": {
      "application/vnd.jupyter.widget-view+json": {
       "model_id": "faafa4490bb4455abb063474e58be71f",
       "version_major": 2,
       "version_minor": 0
      },
      "text/plain": [
       "HBox(children=(HTML(value='Download'), FloatProgress(value=0.0, max=20.0), HTML(value='')))"
      ]
     },
     "metadata": {},
     "output_type": "display_data"
    },
    {
     "name": "stdout",
     "output_type": "stream",
     "text": [
      "\n"
     ]
    },
    {
     "data": {
      "application/vnd.jupyter.widget-view+json": {
       "model_id": "4746b8b8773242639358997b8e0b2f71",
       "version_major": 2,
       "version_minor": 0
      },
      "text/plain": [
       "HBox(children=(HTML(value='Download'), FloatProgress(value=0.0, max=20.0), HTML(value='')))"
      ]
     },
     "metadata": {},
     "output_type": "display_data"
    },
    {
     "name": "stdout",
     "output_type": "stream",
     "text": [
      "\n"
     ]
    },
    {
     "data": {
      "application/vnd.jupyter.widget-view+json": {
       "model_id": "b14a490bfbfc478692470fa41694e111",
       "version_major": 2,
       "version_minor": 0
      },
      "text/plain": [
       "HBox(children=(HTML(value='Download'), FloatProgress(value=0.0, max=20.0), HTML(value='')))"
      ]
     },
     "metadata": {},
     "output_type": "display_data"
    },
    {
     "name": "stdout",
     "output_type": "stream",
     "text": [
      "\n"
     ]
    },
    {
     "data": {
      "application/vnd.jupyter.widget-view+json": {
       "model_id": "2b79945fc2a246e39af1bdf204ee4be8",
       "version_major": 2,
       "version_minor": 0
      },
      "text/plain": [
       "HBox(children=(HTML(value='Download'), FloatProgress(value=0.0, max=20.0), HTML(value='')))"
      ]
     },
     "metadata": {},
     "output_type": "display_data"
    },
    {
     "name": "stdout",
     "output_type": "stream",
     "text": [
      "\n",
      "34.5607 £\n"
     ]
    },
    {
     "data": {
      "text/html": [
       "<div>\n",
       "<style scoped>\n",
       "    .dataframe tbody tr th:only-of-type {\n",
       "        vertical-align: middle;\n",
       "    }\n",
       "\n",
       "    .dataframe tbody tr th {\n",
       "        vertical-align: top;\n",
       "    }\n",
       "\n",
       "    .dataframe thead th {\n",
       "        text-align: right;\n",
       "    }\n",
       "</style>\n",
       "<table border=\"1\" class=\"dataframe\">\n",
       "  <thead>\n",
       "    <tr style=\"text-align: right;\">\n",
       "      <th></th>\n",
       "      <th>Title</th>\n",
       "      <th>Cost</th>\n",
       "    </tr>\n",
       "  </thead>\n",
       "  <tbody>\n",
       "    <tr>\n",
       "      <th>0</th>\n",
       "      <td>A Light in the Attic</td>\n",
       "      <td>51.77</td>\n",
       "    </tr>\n",
       "    <tr>\n",
       "      <th>1</th>\n",
       "      <td>Tipping the Velvet</td>\n",
       "      <td>53.74</td>\n",
       "    </tr>\n",
       "    <tr>\n",
       "      <th>2</th>\n",
       "      <td>Soumission</td>\n",
       "      <td>50.10</td>\n",
       "    </tr>\n",
       "    <tr>\n",
       "      <th>3</th>\n",
       "      <td>Sharp Objects</td>\n",
       "      <td>47.82</td>\n",
       "    </tr>\n",
       "    <tr>\n",
       "      <th>4</th>\n",
       "      <td>Sapiens: A Brief History of Humankind</td>\n",
       "      <td>54.23</td>\n",
       "    </tr>\n",
       "    <tr>\n",
       "      <th>...</th>\n",
       "      <td>...</td>\n",
       "      <td>...</td>\n",
       "    </tr>\n",
       "    <tr>\n",
       "      <th>95</th>\n",
       "      <td>Lumberjanes Vol. 3: A Terrible Plan (Lumberjan...</td>\n",
       "      <td>19.92</td>\n",
       "    </tr>\n",
       "    <tr>\n",
       "      <th>96</th>\n",
       "      <td>Layered: Baking, Building, and Styling Spectac...</td>\n",
       "      <td>40.11</td>\n",
       "    </tr>\n",
       "    <tr>\n",
       "      <th>97</th>\n",
       "      <td>Judo: Seven Steps to Black Belt (an Introducto...</td>\n",
       "      <td>53.90</td>\n",
       "    </tr>\n",
       "    <tr>\n",
       "      <th>98</th>\n",
       "      <td>Join</td>\n",
       "      <td>35.67</td>\n",
       "    </tr>\n",
       "    <tr>\n",
       "      <th>99</th>\n",
       "      <td>In the Country We Love: My Family Divided</td>\n",
       "      <td>22.00</td>\n",
       "    </tr>\n",
       "  </tbody>\n",
       "</table>\n",
       "<p>100 rows × 2 columns</p>\n",
       "</div>"
      ],
      "text/plain": [
       "                                                Title   Cost\n",
       "0                                A Light in the Attic  51.77\n",
       "1                                  Tipping the Velvet  53.74\n",
       "2                                          Soumission  50.10\n",
       "3                                       Sharp Objects  47.82\n",
       "4               Sapiens: A Brief History of Humankind  54.23\n",
       "..                                                ...    ...\n",
       "95  Lumberjanes Vol. 3: A Terrible Plan (Lumberjan...  19.92\n",
       "96  Layered: Baking, Building, and Styling Spectac...  40.11\n",
       "97  Judo: Seven Steps to Black Belt (an Introducto...  53.90\n",
       "98                                               Join  35.67\n",
       "99          In the Country We Love: My Family Divided  22.00\n",
       "\n",
       "[100 rows x 2 columns]"
      ]
     },
     "execution_count": 4,
     "metadata": {},
     "output_type": "execute_result"
    }
   ],
   "source": [
    "from urllib.request import urlopen\n",
    "from tqdm.notebook import trange, tqdm\n",
    "def func(url):\n",
    "    page = urlopen(url)\n",
    "    html_bytes = page.read()\n",
    "    html = html_bytes.decode(\"utf-8\")\n",
    "    \n",
    "    o = html.find('<ol class=\"row\">') + len('<ol class=\"row\">') \n",
    "    oe = html.find('</ol>')\n",
    "    l = html[o : oe]\n",
    "    \n",
    "    li = l.find('<li class=\"col-xs-6 col-sm-4 col-md-3 col-lg-3\">')\n",
    "    lw = l[li:].split('<li class=\"col-xs-6 col-sm-4 col-md-3 col-lg-3\">')\n",
    "    lw.remove('')\n",
    "    res = list()\n",
    "    \n",
    "    for i in tqdm(lw, desc='Download'):\n",
    "        books = dict()\n",
    "        t_l = i.find(\"alt=\\\"\")+len(\"alt=\\\"\")\n",
    "        t_r = i.find(\"\\\" class=\\\"thumbnail\\\"\")\n",
    "        t = i[t_l : t_r]\n",
    "        cost = int(i.find(\"<p class=\\\"price_color\\\">£\")+len(\"<p class=\\\"price_color\\\">£\"))\n",
    "        p = i[cost:cost+5]\n",
    "        if(p != '[]'):\n",
    "            books['Title'] = t\n",
    "            books['Cost'] = float(p)\n",
    "            res.append(books)\n",
    "    return res\n",
    "\n",
    "\n",
    "df_1 = list()\n",
    "for i in range(1,6):\n",
    "    da = func(\"http://books.toscrape.com/catalogue/page-\" + str(i) + \".html\")\n",
    "    df_1 = df_1 + da\n",
    "df_12 = pd.DataFrame(df_1)\n",
    "print(round(df_12['Cost'].mean(), 4), \"£\")\n",
    "df_12"
   ]
  }
 ],
 "metadata": {
  "kernelspec": {
   "display_name": "Python 3",
   "language": "python",
   "name": "python3"
  },
  "language_info": {
   "codemirror_mode": {
    "name": "ipython",
    "version": 3
   },
   "file_extension": ".py",
   "mimetype": "text/x-python",
   "name": "python",
   "nbconvert_exporter": "python",
   "pygments_lexer": "ipython3",
   "version": "3.8.5"
  }
 },
 "nbformat": 4,
 "nbformat_minor": 4
}
